{
 "cells": [
  {
   "cell_type": "markdown",
   "id": "b2ca271d-65fc-4588-a701-5684097fa29c",
   "metadata": {},
   "source": [
    "# Étude de Santé Publique\n",
    "### Par valentin Monteiro\n",
    ">Sommaire\n",
    "\n",
    "<button>\n",
    "    <a href=\"r1\">Requête 1</a>\n",
    "</button>\n"
   ]
  },
  {
   "cell_type": "markdown",
   "id": "58fc4635-cbd7-4de0-96b5-f08172f12e6e",
   "metadata": {},
   "source": [
    "### Import des library"
   ]
  },
  {
   "cell_type": "code",
   "execution_count": 1,
   "id": "39d37b3d-38ad-4019-805c-ee76abb4799b",
   "metadata": {},
   "outputs": [],
   "source": [
    "import pandas as pd\n",
    "import numpy as np\n",
    "import plotly.express as px"
   ]
  },
  {
   "cell_type": "markdown",
   "id": "13093b53-6922-4ddb-bec3-03885c5934d9",
   "metadata": {
    "tags": []
   },
   "source": [
    "<h3>Import des Dataframe</h3>\n",
    "<p><span style=\"color: rgb(251, 160, 38);\"><strong>df_aa</strong> = aide alimentaire</span><br>\n",
    "<div style=\"margin-left: 20px;\">\n",
    "<p>Un fichier d&rsquo;aide alimentaire qui contient :</p>\n",
    "<ul>\n",
    "    <li>Le pays b&eacute;n&eacute;ficiaire.</li>\n",
    "    <li>L&rsquo;ann&eacute;e.</li>\n",
    "    <li>Le produit.</li>\n",
    "    <li>La quantit&eacute; qui a &eacute;t&eacute; donn&eacute;e comme aide alimentaire, en tonnes.</li>\n",
    "</ul>\n",
    "</div>\n",
    "   <span style=\"color: rgb(251, 160, 38);\"><strong>df_da</strong> = dispo alimentaire</span><br><br>\n",
    "<div style=\"margin-left: 20px;\">    \n",
    "<p>Un fichier de disponibilit&eacute; alimentaire pour l&rsquo;ann&eacute;e 2017 qui contient 17 variables :</p>\n",
    "<ul>\n",
    "    <li>Le pays.</li>\n",
    "    <li>Le produit.</li>\n",
    "    <li>4 variables de disponibilit&eacute; alimentaire. Ces 4 variables sont exprim&eacute;es dans des unit&eacute;s bien sp&eacute;cifiques, qui sont pr&eacute;cis&eacute;es directement dans le nom de la variable. &Agrave; noter cependant que la notation <em>kcal</em> est un abus de langage, elle correspond &agrave; une calorie r&eacute;elle.</li>\n",
    "    <li>10 variables qui pr&eacute;cisent les utilisations/moyens d&rsquo;acquisition de la disponibilit&eacute; alimentaire. Elles sont toutes exprim&eacute;es en <strong>milliers de tonnes</strong>.</li>\n",
    "    <li>Enfin, une variable type qui pr&eacute;cise si le produit est d&rsquo;origine animale ou v&eacute;g&eacute;tale.</li>\n",
    "</ul>\n",
    "</div>\n",
    "<span style=\"color: rgb(251, 160, 38);\"><strong>df_p</strong> = population<br></span>\n",
    "<div style=\"margin-left: 20px;\">\n",
    "    <p>Un fichier de population qui inclut :</p>\n",
    "<ul>\n",
    "    <li>Le pays.</li>\n",
    "    <li>L&rsquo;ann&eacute;e.</li>\n",
    "    <li>La population du pays, exprim&eacute;e en milliers d&rsquo;habitants.</li>\n",
    "</ul>\n",
    "</div>\n",
    "<span style=\"color: rgb(251, 160, 38);\"><strong>df_sn</strong> = sous nutrition</span></p>\n",
    "<div style=\"margin-left: 20px;\">\n",
    "    <p>Un fichier d&rsquo;ins&eacute;curit&eacute; alimentaire, qui inclut :</p>\n",
    "<ul>\n",
    "    <li>Le pays.</li>\n",
    "    <li>Intervalle d&rsquo;ann&eacute;es.</li>\n",
    "    <li>Le&nbsp;nombre de personnes en sous-alimentation en millions d&rsquo;habitants&nbsp;(ex. : pour l&rsquo;intervalle 2016-2018, le nombre de personnes correspond &agrave; la moyenne sur ces 3 ann&eacute;es, on peut le r&eacute;sumer en 2017).</li>\n",
    "</ul>\n",
    "</div>\n"
   ]
  },
  {
   "cell_type": "code",
   "execution_count": 66,
   "id": "2b250dfa-634f-4b36-b76a-a921e789c7be",
   "metadata": {
    "tags": []
   },
   "outputs": [],
   "source": [
    "df_aa = pd.read_csv(\"aide_alimentaire.csv\")\n",
    "df_da = pd.read_csv(\"dispo_alimentaire.csv\")\n",
    "df_p = pd.read_csv(\"population.csv\")\n",
    "df_sn = pd.read_csv(\"sous_nutrition.csv\")\n",
    "df_cereal = pd.read_csv(\"FAOSTAT_data_1-24-2022.csv\")"
   ]
  },
  {
   "cell_type": "markdown",
   "id": "15f72b1e-5718-4394-8081-9c009c328ba5",
   "metadata": {},
   "source": [
    "### Nettoyage du dataframe Sous Nutrition"
   ]
  },
  {
   "cell_type": "code",
   "execution_count": 3,
   "id": "b41ac500-8500-4b44-bc61-fb6c6bfd5dd7",
   "metadata": {
    "jupyter": {
     "source_hidden": true
    },
    "tags": []
   },
   "outputs": [],
   "source": [
    "# Suppression des valeurs négligeable\n",
    "df_sn = df_sn[(df_sn[\"Valeur\"]== \"<0.1\") == False]\n",
    "# Suppression des valeurs NULL\n",
    "df_sn = df_sn[df_sn[\"Valeur\"].notnull()]\n",
    "# Conversion type valeur ➡️ float & million ➡️ millier\n",
    "df_sn[\"Valeur\"] = (df_sn.Valeur.astype(float))*1000\n",
    "# Selection année 2017 dans un nouveau DATAframe\n",
    "df_sn2017 = df_sn[(df_sn[\"Année\"] == \"2016-2018\") == True]"
   ]
  },
  {
   "cell_type": "markdown",
   "id": "34d80468-2454-44c0-b582-c8a3f5b998dd",
   "metadata": {},
   "source": [
    "### Nettoyage du dataframe Population"
   ]
  },
  {
   "cell_type": "code",
   "execution_count": 4,
   "id": "bc11903b-f5d3-402c-939f-28fffe1c0227",
   "metadata": {
    "tags": []
   },
   "outputs": [],
   "source": [
    "# Suppression des valeur NULL\n",
    "df_p = df_p[df_p[\"Valeur\"].notnull()]\n",
    "# Selection année 2017 dans un nouveau DATAframe\n",
    "df_p2017=df_p[(df_p[\"Année\"] == 2017) == True]"
   ]
  },
  {
   "cell_type": "markdown",
   "id": "312f7667-56a6-4ca5-86bc-acd1f647675a",
   "metadata": {},
   "source": [
    "## Requête 1: Proportion de personnes en état de sous nutrition"
   ]
  },
  {
   "cell_type": "code",
   "execution_count": 5,
   "id": "2f1a5ada-0a22-45a3-bf01-f5ec4e0f1cf4",
   "metadata": {},
   "outputs": [
    {
     "data": {
      "text/plain": [
       "7.097118203283067"
      ]
     },
     "execution_count": 5,
     "metadata": {},
     "output_type": "execute_result"
    }
   ],
   "source": [
    "taux = (( sum(df_sn2017.Valeur) ) *100) / (sum(df_p2017.Valeur))\n",
    "taux"
   ]
  },
  {
   "cell_type": "markdown",
   "id": "72d8cc29-4e40-42f4-b307-d718e18f120c",
   "metadata": {
    "tags": []
   },
   "source": [
    "## Résultat requête 2 : nombre théorique de personnes qui pourrait être nourri "
   ]
  },
  {
   "cell_type": "code",
   "execution_count": 6,
   "id": "f241c2ec-8176-4561-8ea8-e131bfe3f717",
   "metadata": {},
   "outputs": [
    {
     "name": "stdout",
     "output_type": "stream",
     "text": [
      "8367593850.932399\n"
     ]
    }
   ],
   "source": [
    "df_da_zone = df_da.groupby(\"Zone\").sum()\n",
    "df_dap = df_da_zone.merge(df_p2017, how=\"inner\", left_on=\"Zone\", right_on=\"Zone\")\n",
    "nb_theorique = (sum(df_dap[\"Disponibilité alimentaire (Kcal/personne/jour)\"]*df_dap[\"Valeur\"]))/2500\n",
    "print(nb_theorique*1000)"
   ]
  },
  {
   "cell_type": "markdown",
   "id": "70cad671-e2bd-4faa-87f1-874eff178860",
   "metadata": {},
   "source": [
    "<h2>Résultat requête 3: nombre théorique de personne qui pourrait être nourri - origine végétale</h2>"
   ]
  },
  {
   "cell_type": "code",
   "execution_count": 7,
   "id": "9381a3b2-595a-4686-8274-6129fe106f84",
   "metadata": {},
   "outputs": [
    {
     "name": "stdout",
     "output_type": "stream",
     "text": [
      "6904305684.600402\n"
     ]
    }
   ],
   "source": [
    "df_da_vegetal = df_da[df_da[\"Origine\"] == \"vegetale\"]\n",
    "#df_da_v = df_da_v == True\n",
    "df_da_vegetal = df_da_vegetal.groupby(\"Zone\").sum()\n",
    "df_dap_vegetal = df_da_vegetal.merge(df_p2017, how=\"inner\", left_on=\"Zone\", right_on=\"Zone\")\n",
    "nb_theorique_vegetal = (sum(df_dap_vegetal[\"Disponibilité alimentaire (Kcal/personne/jour)\"]*df_dap_vegetal[\"Valeur\"]))/2500\n",
    "print(nb_theorique_vegetal*1000)"
   ]
  },
  {
   "cell_type": "code",
   "execution_count": 8,
   "id": "eb9f3267-d1ee-4777-8579-69c92ac24c9c",
   "metadata": {},
   "outputs": [
    {
     "data": {
      "text/plain": [
       "Aliments pour animaux    1304245.0\n",
       "Autres Utilisations       865023.0\n",
       "Nourriture               4876258.0\n",
       "Pertes                    453698.0\n",
       "Semences                  154681.0\n",
       "Traitement               2204687.0\n",
       "dtype: float64"
      ]
     },
     "execution_count": 8,
     "metadata": {},
     "output_type": "execute_result"
    }
   ],
   "source": [
    "s_da = df_da_zone.sum()\n",
    "dispo_int = s_da[\"Disponibilité intérieure\"]\n",
    "s_da = s_da.drop([\"Disponibilité intérieure\",\"Disponibilité alimentaire (Kcal/personne/jour)\",\"Disponibilité alimentaire en quantité (kg/personne/an)\",\"Disponibilité de matière grasse en quantité (g/personne/jour)\",\"Disponibilité de protéines en quantité (g/personne/jour)\"])\n",
    "s_da_u = s_da.drop([\"Exportations - Quantité\",\"Importations - Quantité\",\"Production\",\"Variation de stock\"])\n",
    "s_da_u"
   ]
  },
  {
   "cell_type": "markdown",
   "id": "db69db58-b0f1-417e-a00a-c1bec7800608",
   "metadata": {},
   "source": [
    "<h2>Résultat Requête 4 : Utilisation de la disponibilité Intérieur</h2>"
   ]
  },
  {
   "cell_type": "code",
   "execution_count": 9,
   "id": "f6e59604-6501-4118-a986-5401693a4fde",
   "metadata": {},
   "outputs": [
    {
     "data": {
      "image/png": "[encoded data removed]",
      "text/plain": [
       "<Figure size 720x720 with 1 Axes>"
      ]
     },
     "metadata": {},
     "output_type": "display_data"
    }
   ],
   "source": [
    "utilisation = s_da_u.plot.pie(y = \"index\", ylabel=\"\", legend = True, figsize = (10, 10), autopct = lambda x: str(round(x, 2)) + '%' )"
   ]
  },
  {
   "cell_type": "markdown",
   "id": "50e47bd9-0227-4a2c-ba5f-e1f032367014",
   "metadata": {},
   "source": [
    "<h2>Résultat requête 5 : Pays où la proportion de personnes sous-alimentées est la plus forte en 2017</h2>"
   ]
  },
  {
   "cell_type": "code",
   "execution_count": 10,
   "id": "dda6134a-1ed7-4a35-a2ac-122395aefe7b",
   "metadata": {},
   "outputs": [
    {
     "data": {
      "text/html": [
       "<div>\n",
       "<style scoped>\n",
       "    .dataframe tbody tr th:only-of-type {\n",
       "        vertical-align: middle;\n",
       "    }\n",
       "\n",
       "    .dataframe tbody tr th {\n",
       "        vertical-align: top;\n",
       "    }\n",
       "\n",
       "    .dataframe thead th {\n",
       "        text-align: right;\n",
       "    }\n",
       "</style>\n",
       "<table border=\"1\" class=\"dataframe\">\n",
       "  <thead>\n",
       "    <tr style=\"text-align: right;\">\n",
       "      <th></th>\n",
       "      <th>Zone</th>\n",
       "      <th>Année_x</th>\n",
       "      <th>Valeur_x</th>\n",
       "      <th>Année_y</th>\n",
       "      <th>Valeur_y</th>\n",
       "      <th>%</th>\n",
       "    </tr>\n",
       "  </thead>\n",
       "  <tbody>\n",
       "    <tr>\n",
       "      <th>32</th>\n",
       "      <td>Haïti</td>\n",
       "      <td>2017</td>\n",
       "      <td>10982.366</td>\n",
       "      <td>2016-2018</td>\n",
       "      <td>5300.0</td>\n",
       "      <td>48.259182</td>\n",
       "    </tr>\n",
       "    <tr>\n",
       "      <th>67</th>\n",
       "      <td>République populaire démocratique de Corée</td>\n",
       "      <td>2017</td>\n",
       "      <td>25429.825</td>\n",
       "      <td>2016-2018</td>\n",
       "      <td>12000.0</td>\n",
       "      <td>47.188685</td>\n",
       "    </tr>\n",
       "    <tr>\n",
       "      <th>45</th>\n",
       "      <td>Madagascar</td>\n",
       "      <td>2017</td>\n",
       "      <td>25570.512</td>\n",
       "      <td>2016-2018</td>\n",
       "      <td>10500.0</td>\n",
       "      <td>41.062924</td>\n",
       "    </tr>\n",
       "    <tr>\n",
       "      <th>44</th>\n",
       "      <td>Libéria</td>\n",
       "      <td>2017</td>\n",
       "      <td>4702.226</td>\n",
       "      <td>2016-2018</td>\n",
       "      <td>1800.0</td>\n",
       "      <td>38.279742</td>\n",
       "    </tr>\n",
       "    <tr>\n",
       "      <th>42</th>\n",
       "      <td>Lesotho</td>\n",
       "      <td>2017</td>\n",
       "      <td>2091.534</td>\n",
       "      <td>2016-2018</td>\n",
       "      <td>800.0</td>\n",
       "      <td>38.249438</td>\n",
       "    </tr>\n",
       "    <tr>\n",
       "      <th>76</th>\n",
       "      <td>Tchad</td>\n",
       "      <td>2017</td>\n",
       "      <td>15016.753</td>\n",
       "      <td>2016-2018</td>\n",
       "      <td>5700.0</td>\n",
       "      <td>37.957606</td>\n",
       "    </tr>\n",
       "    <tr>\n",
       "      <th>69</th>\n",
       "      <td>Rwanda</td>\n",
       "      <td>2017</td>\n",
       "      <td>11980.961</td>\n",
       "      <td>2016-2018</td>\n",
       "      <td>4200.0</td>\n",
       "      <td>35.055619</td>\n",
       "    </tr>\n",
       "    <tr>\n",
       "      <th>53</th>\n",
       "      <td>Mozambique</td>\n",
       "      <td>2017</td>\n",
       "      <td>28649.018</td>\n",
       "      <td>2016-2018</td>\n",
       "      <td>9400.0</td>\n",
       "      <td>32.810898</td>\n",
       "    </tr>\n",
       "    <tr>\n",
       "      <th>78</th>\n",
       "      <td>Timor-Leste</td>\n",
       "      <td>2017</td>\n",
       "      <td>1243.258</td>\n",
       "      <td>2016-2018</td>\n",
       "      <td>400.0</td>\n",
       "      <td>32.173531</td>\n",
       "    </tr>\n",
       "    <tr>\n",
       "      <th>0</th>\n",
       "      <td>Afghanistan</td>\n",
       "      <td>2017</td>\n",
       "      <td>36296.113</td>\n",
       "      <td>2016-2018</td>\n",
       "      <td>10500.0</td>\n",
       "      <td>28.928718</td>\n",
       "    </tr>\n",
       "  </tbody>\n",
       "</table>\n",
       "</div>"
      ],
      "text/plain": [
       "                                          Zone  Année_x   Valeur_x    Année_y  \\\n",
       "32                                       Haïti     2017  10982.366  2016-2018   \n",
       "67  République populaire démocratique de Corée     2017  25429.825  2016-2018   \n",
       "45                                  Madagascar     2017  25570.512  2016-2018   \n",
       "44                                     Libéria     2017   4702.226  2016-2018   \n",
       "42                                     Lesotho     2017   2091.534  2016-2018   \n",
       "76                                       Tchad     2017  15016.753  2016-2018   \n",
       "69                                      Rwanda     2017  11980.961  2016-2018   \n",
       "53                                  Mozambique     2017  28649.018  2016-2018   \n",
       "78                                 Timor-Leste     2017   1243.258  2016-2018   \n",
       "0                                  Afghanistan     2017  36296.113  2016-2018   \n",
       "\n",
       "    Valeur_y          %  \n",
       "32    5300.0  48.259182  \n",
       "67   12000.0  47.188685  \n",
       "45   10500.0  41.062924  \n",
       "44    1800.0  38.279742  \n",
       "42     800.0  38.249438  \n",
       "76    5700.0  37.957606  \n",
       "69    4200.0  35.055619  \n",
       "53    9400.0  32.810898  \n",
       "78     400.0  32.173531  \n",
       "0    10500.0  28.928718  "
      ]
     },
     "execution_count": 10,
     "metadata": {},
     "output_type": "execute_result"
    }
   ],
   "source": [
    "top_sa = df_p2017.merge(df_sn2017, how=\"inner\", left_on=\"Zone\", right_on=\"Zone\")\n",
    "top_sa[\"%\"]= (top_sa.Valeur_y.astype(float)*100) / top_sa.Valeur_x.astype(float)\n",
    "top_sa.sort_values(by=\"%\", ascending=False).head(10)"
   ]
  },
  {
   "cell_type": "markdown",
   "id": "83d2df94-314f-4c6a-997f-782ddc32773d",
   "metadata": {},
   "source": [
    "<h2>Requête 6 : Pays ayant bénéficié le plus d’aide depuis 2013 </h2>"
   ]
  },
  {
   "cell_type": "code",
   "execution_count": 11,
   "id": "47aa59f1-b45f-4ed3-b6bf-bfa9f4d1562b",
   "metadata": {},
   "outputs": [
    {
     "data": {
      "text/html": [
       "<div>\n",
       "<style scoped>\n",
       "    .dataframe tbody tr th:only-of-type {\n",
       "        vertical-align: middle;\n",
       "    }\n",
       "\n",
       "    .dataframe tbody tr th {\n",
       "        vertical-align: top;\n",
       "    }\n",
       "\n",
       "    .dataframe thead th {\n",
       "        text-align: right;\n",
       "    }\n",
       "</style>\n",
       "<table border=\"1\" class=\"dataframe\">\n",
       "  <thead>\n",
       "    <tr style=\"text-align: right;\">\n",
       "      <th></th>\n",
       "      <th>Pays bénéficiaire</th>\n",
       "      <th>Valeur</th>\n",
       "    </tr>\n",
       "  </thead>\n",
       "  <tbody>\n",
       "    <tr>\n",
       "      <th>0</th>\n",
       "      <td>République arabe syrienne</td>\n",
       "      <td>1858943</td>\n",
       "    </tr>\n",
       "    <tr>\n",
       "      <th>1</th>\n",
       "      <td>Éthiopie</td>\n",
       "      <td>1381294</td>\n",
       "    </tr>\n",
       "    <tr>\n",
       "      <th>2</th>\n",
       "      <td>Yémen</td>\n",
       "      <td>1206484</td>\n",
       "    </tr>\n",
       "    <tr>\n",
       "      <th>3</th>\n",
       "      <td>Soudan du Sud</td>\n",
       "      <td>695248</td>\n",
       "    </tr>\n",
       "    <tr>\n",
       "      <th>4</th>\n",
       "      <td>Soudan</td>\n",
       "      <td>669784</td>\n",
       "    </tr>\n",
       "    <tr>\n",
       "      <th>5</th>\n",
       "      <td>Kenya</td>\n",
       "      <td>552836</td>\n",
       "    </tr>\n",
       "    <tr>\n",
       "      <th>6</th>\n",
       "      <td>Bangladesh</td>\n",
       "      <td>348188</td>\n",
       "    </tr>\n",
       "    <tr>\n",
       "      <th>7</th>\n",
       "      <td>Somalie</td>\n",
       "      <td>292678</td>\n",
       "    </tr>\n",
       "    <tr>\n",
       "      <th>8</th>\n",
       "      <td>République démocratique du Congo</td>\n",
       "      <td>288502</td>\n",
       "    </tr>\n",
       "    <tr>\n",
       "      <th>9</th>\n",
       "      <td>Niger</td>\n",
       "      <td>276344</td>\n",
       "    </tr>\n",
       "  </tbody>\n",
       "</table>\n",
       "</div>"
      ],
      "text/plain": [
       "                  Pays bénéficiaire   Valeur\n",
       "0         République arabe syrienne  1858943\n",
       "1                          Éthiopie  1381294\n",
       "2                             Yémen  1206484\n",
       "3                     Soudan du Sud   695248\n",
       "4                            Soudan   669784\n",
       "5                             Kenya   552836\n",
       "6                        Bangladesh   348188\n",
       "7                           Somalie   292678\n",
       "8  République démocratique du Congo   288502\n",
       "9                             Niger   276344"
      ]
     },
     "execution_count": 11,
     "metadata": {},
     "output_type": "execute_result"
    }
   ],
   "source": [
    "df_aa.groupby([\"Pays bénéficiaire\"])[\"Valeur\"].sum().sort_values(ascending = False).reset_index().head(10)"
   ]
  },
  {
   "cell_type": "code",
   "execution_count": 12,
   "id": "f4e04836-a523-4ca2-8f85-02a68866316c",
   "metadata": {},
   "outputs": [
    {
     "data": {
      "text/html": [
       "<div>\n",
       "<style scoped>\n",
       "    .dataframe tbody tr th:only-of-type {\n",
       "        vertical-align: middle;\n",
       "    }\n",
       "\n",
       "    .dataframe tbody tr th {\n",
       "        vertical-align: top;\n",
       "    }\n",
       "\n",
       "    .dataframe thead th {\n",
       "        text-align: right;\n",
       "    }\n",
       "</style>\n",
       "<table border=\"1\" class=\"dataframe\">\n",
       "  <thead>\n",
       "    <tr style=\"text-align: right;\">\n",
       "      <th></th>\n",
       "      <th>Zone</th>\n",
       "      <th>Disponibilité alimentaire (Kcal/personne/jour)</th>\n",
       "      <th>Année</th>\n",
       "      <th>Valeur</th>\n",
       "      <th>disp/hab</th>\n",
       "    </tr>\n",
       "  </thead>\n",
       "  <tbody>\n",
       "    <tr>\n",
       "      <th>134</th>\n",
       "      <td>Saint-Kitts-et-Nevis</td>\n",
       "      <td>2491.0</td>\n",
       "      <td>2017</td>\n",
       "      <td>52.045</td>\n",
       "      <td>47.862427</td>\n",
       "    </tr>\n",
       "    <tr>\n",
       "      <th>18</th>\n",
       "      <td>Bermudes</td>\n",
       "      <td>2668.0</td>\n",
       "      <td>2017</td>\n",
       "      <td>63.049</td>\n",
       "      <td>42.316294</td>\n",
       "    </tr>\n",
       "    <tr>\n",
       "      <th>46</th>\n",
       "      <td>Dominique</td>\n",
       "      <td>2930.0</td>\n",
       "      <td>2017</td>\n",
       "      <td>71.458</td>\n",
       "      <td>41.003107</td>\n",
       "    </tr>\n",
       "    <tr>\n",
       "      <th>135</th>\n",
       "      <td>Saint-Vincent-et-les Grenadines</td>\n",
       "      <td>2965.0</td>\n",
       "      <td>2017</td>\n",
       "      <td>109.827</td>\n",
       "      <td>26.997004</td>\n",
       "    </tr>\n",
       "    <tr>\n",
       "      <th>82</th>\n",
       "      <td>Kiribati</td>\n",
       "      <td>3042.0</td>\n",
       "      <td>2017</td>\n",
       "      <td>114.158</td>\n",
       "      <td>26.647278</td>\n",
       "    </tr>\n",
       "    <tr>\n",
       "      <th>6</th>\n",
       "      <td>Antigua-et-Barbuda</td>\n",
       "      <td>2416.0</td>\n",
       "      <td>2017</td>\n",
       "      <td>95.426</td>\n",
       "      <td>25.318047</td>\n",
       "    </tr>\n",
       "    <tr>\n",
       "      <th>58</th>\n",
       "      <td>Grenade</td>\n",
       "      <td>2442.0</td>\n",
       "      <td>2017</td>\n",
       "      <td>110.874</td>\n",
       "      <td>22.025001</td>\n",
       "    </tr>\n",
       "    <tr>\n",
       "      <th>137</th>\n",
       "      <td>Samoa</td>\n",
       "      <td>2956.0</td>\n",
       "      <td>2017</td>\n",
       "      <td>195.352</td>\n",
       "      <td>15.131660</td>\n",
       "    </tr>\n",
       "    <tr>\n",
       "      <th>136</th>\n",
       "      <td>Sainte-Lucie</td>\n",
       "      <td>2589.0</td>\n",
       "      <td>2017</td>\n",
       "      <td>180.954</td>\n",
       "      <td>14.307504</td>\n",
       "    </tr>\n",
       "    <tr>\n",
       "      <th>138</th>\n",
       "      <td>Sao Tomé-et-Principe</td>\n",
       "      <td>2398.0</td>\n",
       "      <td>2017</td>\n",
       "      <td>207.089</td>\n",
       "      <td>11.579562</td>\n",
       "    </tr>\n",
       "  </tbody>\n",
       "</table>\n",
       "</div>"
      ],
      "text/plain": [
       "                                Zone  \\\n",
       "134             Saint-Kitts-et-Nevis   \n",
       "18                          Bermudes   \n",
       "46                         Dominique   \n",
       "135  Saint-Vincent-et-les Grenadines   \n",
       "82                          Kiribati   \n",
       "6                 Antigua-et-Barbuda   \n",
       "58                           Grenade   \n",
       "137                            Samoa   \n",
       "136                     Sainte-Lucie   \n",
       "138             Sao Tomé-et-Principe   \n",
       "\n",
       "     Disponibilité alimentaire (Kcal/personne/jour)  Année   Valeur   disp/hab  \n",
       "134                                          2491.0   2017   52.045  47.862427  \n",
       "18                                           2668.0   2017   63.049  42.316294  \n",
       "46                                           2930.0   2017   71.458  41.003107  \n",
       "135                                          2965.0   2017  109.827  26.997004  \n",
       "82                                           3042.0   2017  114.158  26.647278  \n",
       "6                                            2416.0   2017   95.426  25.318047  \n",
       "58                                           2442.0   2017  110.874  22.025001  \n",
       "137                                          2956.0   2017  195.352  15.131660  \n",
       "136                                          2589.0   2017  180.954  14.307504  \n",
       "138                                          2398.0   2017  207.089  11.579562  "
      ]
     },
     "execution_count": 12,
     "metadata": {},
     "output_type": "execute_result"
    }
   ],
   "source": [
    "df1 = df_dap.groupby([\"Zone\",\"Disponibilité alimentaire (Kcal/personne/jour)\"], as_index = False) [\"Disponibilité alimentaire (Kcal/personne/jour)\"].sum()\n",
    "df2 = df1.merge(df_p2017, how = 'inner', on=\"Zone\")\n",
    "df2[\"disp/hab\"]= df2[\"Disponibilité alimentaire (Kcal/personne/jour)\"]/df2[\"Valeur\"]\n",
    "df2.sort_values(by = \"disp/hab\" ,ascending = False).head(10)\n"
   ]
  },
  {
   "cell_type": "markdown",
   "id": "94aa041d-e225-4c55-9b6b-1f4d768d6309",
   "metadata": {},
   "source": [
    "<h2>Request 7: top10  Diponibilité/habitants la plus élevée</h2>"
   ]
  },
  {
   "cell_type": "code",
   "execution_count": 13,
   "id": "6c9bbd07-a318-424a-b887-b8f9b1835050",
   "metadata": {},
   "outputs": [
    {
     "data": {
      "text/html": [
       "<div>\n",
       "<style scoped>\n",
       "    .dataframe tbody tr th:only-of-type {\n",
       "        vertical-align: middle;\n",
       "    }\n",
       "\n",
       "    .dataframe tbody tr th {\n",
       "        vertical-align: top;\n",
       "    }\n",
       "\n",
       "    .dataframe thead th {\n",
       "        text-align: right;\n",
       "    }\n",
       "</style>\n",
       "<table border=\"1\" class=\"dataframe\">\n",
       "  <thead>\n",
       "    <tr style=\"text-align: right;\">\n",
       "      <th></th>\n",
       "      <th>Zone</th>\n",
       "      <th>Disponibilité alimentaire (Kcal/personne/jour)</th>\n",
       "    </tr>\n",
       "  </thead>\n",
       "  <tbody>\n",
       "    <tr>\n",
       "      <th>11</th>\n",
       "      <td>Autriche</td>\n",
       "      <td>3770.0</td>\n",
       "    </tr>\n",
       "    <tr>\n",
       "      <th>16</th>\n",
       "      <td>Belgique</td>\n",
       "      <td>3737.0</td>\n",
       "    </tr>\n",
       "    <tr>\n",
       "      <th>157</th>\n",
       "      <td>Turquie</td>\n",
       "      <td>3708.0</td>\n",
       "    </tr>\n",
       "    <tr>\n",
       "      <th>169</th>\n",
       "      <td>États-Unis d'Amérique</td>\n",
       "      <td>3682.0</td>\n",
       "    </tr>\n",
       "    <tr>\n",
       "      <th>74</th>\n",
       "      <td>Israël</td>\n",
       "      <td>3610.0</td>\n",
       "    </tr>\n",
       "    <tr>\n",
       "      <th>72</th>\n",
       "      <td>Irlande</td>\n",
       "      <td>3602.0</td>\n",
       "    </tr>\n",
       "    <tr>\n",
       "      <th>75</th>\n",
       "      <td>Italie</td>\n",
       "      <td>3578.0</td>\n",
       "    </tr>\n",
       "    <tr>\n",
       "      <th>89</th>\n",
       "      <td>Luxembourg</td>\n",
       "      <td>3540.0</td>\n",
       "    </tr>\n",
       "    <tr>\n",
       "      <th>166</th>\n",
       "      <td>Égypte</td>\n",
       "      <td>3518.0</td>\n",
       "    </tr>\n",
       "    <tr>\n",
       "      <th>4</th>\n",
       "      <td>Allemagne</td>\n",
       "      <td>3503.0</td>\n",
       "    </tr>\n",
       "  </tbody>\n",
       "</table>\n",
       "</div>"
      ],
      "text/plain": [
       "                      Zone  Disponibilité alimentaire (Kcal/personne/jour)\n",
       "11                Autriche                                          3770.0\n",
       "16                Belgique                                          3737.0\n",
       "157                Turquie                                          3708.0\n",
       "169  États-Unis d'Amérique                                          3682.0\n",
       "74                  Israël                                          3610.0\n",
       "72                 Irlande                                          3602.0\n",
       "75                  Italie                                          3578.0\n",
       "89              Luxembourg                                          3540.0\n",
       "166                 Égypte                                          3518.0\n",
       "4                Allemagne                                          3503.0"
      ]
     },
     "execution_count": 13,
     "metadata": {},
     "output_type": "execute_result"
    }
   ],
   "source": [
    "df1.sort_values(by=\"Disponibilité alimentaire (Kcal/personne/jour)\", ascending = False).head(10)"
   ]
  },
  {
   "cell_type": "markdown",
   "id": "64b31c26-76f2-4973-81ae-a12588eea28d",
   "metadata": {},
   "source": [
    "<h2>Request 8: top10  Diponibilité/habitans la moins élevée</h2>"
   ]
  },
  {
   "cell_type": "code",
   "execution_count": 14,
   "id": "8d694d5f-04dc-47d2-8218-1d75f95ce835",
   "metadata": {},
   "outputs": [
    {
     "data": {
      "text/html": [
       "<div>\n",
       "<style scoped>\n",
       "    .dataframe tbody tr th:only-of-type {\n",
       "        vertical-align: middle;\n",
       "    }\n",
       "\n",
       "    .dataframe tbody tr th {\n",
       "        vertical-align: top;\n",
       "    }\n",
       "\n",
       "    .dataframe thead th {\n",
       "        text-align: right;\n",
       "    }\n",
       "</style>\n",
       "<table border=\"1\" class=\"dataframe\">\n",
       "  <thead>\n",
       "    <tr style=\"text-align: right;\">\n",
       "      <th></th>\n",
       "      <th>Zone</th>\n",
       "      <th>Disponibilité alimentaire (Kcal/personne/jour)</th>\n",
       "    </tr>\n",
       "  </thead>\n",
       "  <tbody>\n",
       "    <tr>\n",
       "      <th>127</th>\n",
       "      <td>République centrafricaine</td>\n",
       "      <td>1879.0</td>\n",
       "    </tr>\n",
       "    <tr>\n",
       "      <th>164</th>\n",
       "      <td>Zambie</td>\n",
       "      <td>1924.0</td>\n",
       "    </tr>\n",
       "    <tr>\n",
       "      <th>91</th>\n",
       "      <td>Madagascar</td>\n",
       "      <td>2056.0</td>\n",
       "    </tr>\n",
       "    <tr>\n",
       "      <th>0</th>\n",
       "      <td>Afghanistan</td>\n",
       "      <td>2087.0</td>\n",
       "    </tr>\n",
       "    <tr>\n",
       "      <th>65</th>\n",
       "      <td>Haïti</td>\n",
       "      <td>2089.0</td>\n",
       "    </tr>\n",
       "    <tr>\n",
       "      <th>132</th>\n",
       "      <td>République populaire démocratique de Corée</td>\n",
       "      <td>2093.0</td>\n",
       "    </tr>\n",
       "    <tr>\n",
       "      <th>150</th>\n",
       "      <td>Tchad</td>\n",
       "      <td>2109.0</td>\n",
       "    </tr>\n",
       "    <tr>\n",
       "      <th>165</th>\n",
       "      <td>Zimbabwe</td>\n",
       "      <td>2113.0</td>\n",
       "    </tr>\n",
       "    <tr>\n",
       "      <th>114</th>\n",
       "      <td>Ouganda</td>\n",
       "      <td>2126.0</td>\n",
       "    </tr>\n",
       "    <tr>\n",
       "      <th>152</th>\n",
       "      <td>Timor-Leste</td>\n",
       "      <td>2129.0</td>\n",
       "    </tr>\n",
       "  </tbody>\n",
       "</table>\n",
       "</div>"
      ],
      "text/plain": [
       "                                           Zone  \\\n",
       "127                   République centrafricaine   \n",
       "164                                      Zambie   \n",
       "91                                   Madagascar   \n",
       "0                                   Afghanistan   \n",
       "65                                        Haïti   \n",
       "132  République populaire démocratique de Corée   \n",
       "150                                       Tchad   \n",
       "165                                    Zimbabwe   \n",
       "114                                     Ouganda   \n",
       "152                                 Timor-Leste   \n",
       "\n",
       "     Disponibilité alimentaire (Kcal/personne/jour)  \n",
       "127                                          1879.0  \n",
       "164                                          1924.0  \n",
       "91                                           2056.0  \n",
       "0                                            2087.0  \n",
       "65                                           2089.0  \n",
       "132                                          2093.0  \n",
       "150                                          2109.0  \n",
       "165                                          2113.0  \n",
       "114                                          2126.0  \n",
       "152                                          2129.0  "
      ]
     },
     "execution_count": 14,
     "metadata": {},
     "output_type": "execute_result"
    }
   ],
   "source": [
    "df1.sort_values(by=\"Disponibilité alimentaire (Kcal/personne/jour)\", ascending = True).head(10)"
   ]
  },
  {
   "cell_type": "code",
   "execution_count": 87,
   "id": "e60a2d91-f443-4eea-b129-82db56125e6d",
   "metadata": {},
   "outputs": [
    {
     "data": {
      "text/plain": [
       "['Blé et produits',\n",
       " 'Riz et produits',\n",
       " 'Orge et produits',\n",
       " 'Maïs et produits',\n",
       " 'Seigle et produits',\n",
       " 'Avoine',\n",
       " 'Millet et produits',\n",
       " 'Sorgho et produits',\n",
       " 'Céréales, Autres']"
      ]
     },
     "execution_count": 87,
     "metadata": {},
     "output_type": "execute_result"
    }
   ],
   "source": [
    "df_cereal.Produit = df_cereal.Produit.apply(lambda x: x.replace(\"Maés\", \"Maïs\"))\n",
    "df_cereal.Produit = df_cereal.Produit.apply(lambda x: x.replace(\"?\", \"é\"))\n",
    "df_cereal.Produit = df_cereal.Produit.apply(lambda x: x.replace(\"Riz (Eq Blanchi)\", \"Riz et produits\"))\n",
    "liste_cereal1 = df_cereal[\"Produit\"].unique()\n",
    "liste_cereal = []\n",
    "\n",
    "liste_cereal2 = [\"Blé et produits\", \"Riz et produits\", \"Orge et produits\", \"Maïs et produits\", \"Seigle et produits\",\"Avoine\", \"Millet et produits\", \"Sorgho et produits\", \"Céréales, Autres\"]\n",
    "liste_cereal2"
   ]
  },
  {
   "cell_type": "code",
   "execution_count": 88,
   "id": "a38b80ff-2dd1-4b0c-855e-c47549873e65",
   "metadata": {},
   "outputs": [
    {
     "data": {
      "text/plain": [
       "['Blé et produits',\n",
       " 'Riz et produits',\n",
       " 'Orge et produits',\n",
       " 'Maïs et produits',\n",
       " 'Seigle et produits',\n",
       " 'Avoine',\n",
       " 'Millet et produits',\n",
       " 'Sorgho et produits',\n",
       " 'Céréales, Autres']"
      ]
     },
     "execution_count": 88,
     "metadata": {},
     "output_type": "execute_result"
    }
   ],
   "source": [
    "for x in liste_cereal1:\n",
    "    liste_cereal.append(x)\n",
    "\n",
    "liste_cereal"
   ]
  },
  {
   "cell_type": "code",
   "execution_count": 89,
   "id": "c549fa41-0d3e-48c2-811f-5f405f3936a8",
   "metadata": {},
   "outputs": [
    {
     "data": {
      "text/plain": [
       "True"
      ]
     },
     "execution_count": 89,
     "metadata": {},
     "output_type": "execute_result"
    }
   ],
   "source": [
    "liste_cereal == liste_cereal2"
   ]
  },
  {
   "cell_type": "code",
   "execution_count": 90,
   "id": "25f7b709-6e9c-4732-93f5-db6f3aeeaccd",
   "metadata": {
    "tags": []
   },
   "outputs": [],
   "source": [
    "df_da_cereal = df_da.loc[df_da[\"Produit\"].isin(liste_cereal),:]\n",
    "total_cereal = df_da_cereal[\"Disponibilité intérieure\"].sum()\n",
    "total_nourriture_cereal = df_da_cereal[\"Nourriture\"].sum()\n",
    "total_animal_cereal = df_da_cereal[\"Aliments pour animaux\"].sum()\n"
   ]
  },
  {
   "cell_type": "markdown",
   "id": "eea006f2-af69-4805-80e5-664a765f1948",
   "metadata": {},
   "source": [
    "<h2>Proportion d'utilisation de céréale utilisé pour l'alimentation humaine</h2>"
   ]
  },
  {
   "cell_type": "code",
   "execution_count": 91,
   "id": "d5f2c2d2-28cd-4ea7-a3d8-97ac492df6ee",
   "metadata": {},
   "outputs": [
    {
     "data": {
      "text/plain": [
       "18.130550970683014"
      ]
     },
     "execution_count": 91,
     "metadata": {},
     "output_type": "execute_result"
    }
   ],
   "source": [
    "rate_use_cereal_human = (total_nourriture_cereal*100)/total_cereal\n",
    "rate_use_cereal_human"
   ]
  },
  {
   "cell_type": "markdown",
   "id": "765bb27c-d6e2-4994-aca2-63ad608635c1",
   "metadata": {},
   "source": [
    "<h2>Proportion d'utilisation de céréale utiliser pour l'alimentation animal</h2>"
   ]
  },
  {
   "cell_type": "code",
   "execution_count": 92,
   "id": "af747cfc-8e16-41e2-bc00-5e9b08a276ca",
   "metadata": {},
   "outputs": [
    {
     "data": {
      "text/plain": [
       "69.33506248526291"
      ]
     },
     "execution_count": 92,
     "metadata": {},
     "output_type": "execute_result"
    }
   ],
   "source": [
    "rate_use_cereal_animal = (total_animal_cereal*100)/total_cereal\n",
    "rate_use_cereal_animal "
   ]
  },
  {
   "cell_type": "markdown",
   "id": "23c84fe3-fe99-41ac-98cf-a62b68ba9b86",
   "metadata": {},
   "source": [
    "## Problème dans liste des céréale\n",
    "``` \"Blé et produits\", \"Riz et produits\", \"Orge et produits\", \"Maïs et produits\", \"Seigle et produits\",\"Avoine\", \"Millet et produits\", \"Sorgho et produits\", \"Céréales, Autres\"` ```\n",
    "\n",
    "> Seuls l'Avoines & Céréales, Autres sont compté dans les résultats précédent"
   ]
  },
  {
   "cell_type": "code",
   "execution_count": 40,
   "id": "3cbc530a-5ed1-4f1c-a78d-d73254605227",
   "metadata": {
    "tags": []
   },
   "outputs": [
    {
     "data": {
      "text/plain": [
       "array(['Abats Comestible', 'Agrumes, Autres', 'Aliments pour enfants',\n",
       "       'Ananas', 'Bananes', 'Beurre, Ghee', 'Bière', 'Blé',\n",
       "       'Boissons Alcooliques', 'Café', 'Coco (Incl Coprah)', 'Crème',\n",
       "       'Céréales, Autres', 'Dattes', 'Edulcorants Autres',\n",
       "       'Feve de Cacao', 'Fruits, Autres', 'Graines de coton',\n",
       "       'Graines de tournesol', 'Graisses Animales Crue',\n",
       "       'Huil Plantes Oleif Autr', 'Huile Graines de Coton',\n",
       "       \"Huile d'Arachide\", \"Huile d'Olive\", 'Huile de Colza&Moutarde',\n",
       "       'Huile de Palme', 'Huile de Soja', 'Huile de Sésame',\n",
       "       'Huile de Tournesol', 'Lait - Excl Beurre', 'Légumes, Autres',\n",
       "       'Légumineuses Autres', 'Maïs', 'Miel', 'Millet', 'Miscellanees',\n",
       "       'Noix', 'Oeufs', 'Olives', 'Oranges, Mandarines', 'Orge',\n",
       "       'Plantes Oleiferes, Autre', 'Poissons Eau Douce', 'Poivre',\n",
       "       'Pommes', 'Pommes de Terre', 'Raisin', 'Riz (Eq Blanchi)',\n",
       "       'Sucre Eq Brut', 'Sucre, betterave', 'Sucre, canne', 'Sésame',\n",
       "       'Thé', 'Tomates', \"Viande d'Ovins/Caprins\", 'Viande de Bovins',\n",
       "       'Viande de Volailles', 'Viande, Autre', 'Vin', 'Épices, Autres',\n",
       "       'Alcool, non Comestible', 'Animaux Aquatiques Autre',\n",
       "       'Arachides Decortiquees', 'Avoine', 'Bananes plantains',\n",
       "       'Boissons Fermentés', 'Cephalopodes', 'Citrons & Limes',\n",
       "       'Crustacés', 'Girofles', 'Graines Colza/Moutarde', 'Haricots',\n",
       "       'Huile de Coco', 'Huile de Germe de Maïs', 'Huile de Palmistes',\n",
       "       'Huiles de Foie de Poisso', 'Huiles de Poissons', 'Ignames',\n",
       "       'Manioc', 'Mollusques, Autres', 'Oignons', 'Palmistes',\n",
       "       'Pamplemousse', 'Patates douces', 'Perciform', 'Piments',\n",
       "       'Plantes Aquatiques', 'Pois', 'Poissons Marins, Autres',\n",
       "       'Poissons Pelagiques', 'Racines nda', 'Seigle', 'Soja', 'Sorgho',\n",
       "       'Viande de Suides', 'Huile de Son de Riz', 'Sucre non centrifugé',\n",
       "       'Viande de Anim Aquatiq'], dtype=object)"
      ]
     },
     "execution_count": 40,
     "metadata": {},
     "output_type": "execute_result"
    }
   ],
   "source": [
    "df_da[\"Produit\"].unique()"
   ]
  },
  {
   "cell_type": "code",
   "execution_count": 99,
   "id": "abffe256-ddd6-44ca-abe6-55e76103a0eb",
   "metadata": {},
   "outputs": [
    {
     "data": {
      "text/plain": [
       "['Blé',\n",
       " 'Riz (Eq Blanchi)',\n",
       " 'Orge',\n",
       " 'Maïs',\n",
       " 'Seigle',\n",
       " 'Avoine',\n",
       " 'Millet',\n",
       " 'Sorgho',\n",
       " 'Céréales, Autres']"
      ]
     },
     "execution_count": 99,
     "metadata": {},
     "output_type": "execute_result"
    }
   ],
   "source": [
    "df_cereal.Produit = df_cereal.Produit.apply(lambda x: x.replace(\" et produits\", \"\"))\n",
    "df_cereal.Produit = df_cereal.Produit.apply(lambda x: x.replace(\"Riz\", \"Riz (Eq Blanchi)\"))\n",
    "liste_cereal1 = df_cereal[\"Produit\"].unique()\n",
    "liste_cereal_reel = []\n",
    "for x in liste_cereal1:\n",
    "    liste_cereal_reel.append(x)\n",
    "\n",
    "liste_cereal_reel"
   ]
  },
  {
   "cell_type": "code",
   "execution_count": 100,
   "id": "2448b655-0f9c-40cc-bc1a-90d7f2a3e723",
   "metadata": {},
   "outputs": [],
   "source": [
    "# Liste réel : \"Blé\", \"Riz (Eq Blanchi)\", \"Orge\", \"Maïs\", \"Seigle\", \"Avoine\", \"Millet\", \"Sorgho\", \"Céréales, Autres\"\n",
    "#df_da_cereal = df_da[df_da[\"Produit\"].isin([\"Blé\", \"Riz (Eq Blanchi)\", \"Orge\", \"Maïs\", \"Seigle\", \"Avoine\", \"Millet\", \"Sorgho\", \"Céréales, Autres\"])]\n",
    "df_da_cereal = df_da.loc[df_da[\"Produit\"].isin(liste_cereal_reel),:]\n",
    "total_cereal = df_da_cereal[\"Disponibilité intérieure\"].sum()\n",
    "total_nourriture_cereal = df_da_cereal[\"Nourriture\"].sum()\n",
    "total_animal_cereal = df_da_cereal[\"Aliments pour animaux\"].sum()\n"
   ]
  },
  {
   "cell_type": "markdown",
   "id": "0849d811-0442-4389-966d-ba5d65cae001",
   "metadata": {},
   "source": [
    "## Proportion d'utilisation de céréale utilisé pour l'alimentation humaine"
   ]
  },
  {
   "cell_type": "code",
   "execution_count": 101,
   "id": "09f113e1-d337-46ed-bbce-723f70a0e79d",
   "metadata": {},
   "outputs": [
    {
     "data": {
      "text/plain": [
       "42.75074480712289"
      ]
     },
     "execution_count": 101,
     "metadata": {},
     "output_type": "execute_result"
    }
   ],
   "source": [
    "rate_use_cereal_human = (total_nourriture_cereal*100)/total_cereal\n",
    "rate_use_cereal_human"
   ]
  },
  {
   "cell_type": "markdown",
   "id": "bd8ea033-372d-4d1e-aa66-34aaefcc9b0e",
   "metadata": {},
   "source": [
    "## Proportion d'utilisation de céréale utiliser pour l'alimentation animal"
   ]
  },
  {
   "cell_type": "code",
   "execution_count": 102,
   "id": "b621ce7a-1e3c-42bd-8712-ecf7b83e13d0",
   "metadata": {},
   "outputs": [
    {
     "data": {
      "text/plain": [
       "36.291456706047654"
      ]
     },
     "execution_count": 102,
     "metadata": {},
     "output_type": "execute_result"
    }
   ],
   "source": [
    "rate_use_cereal_animal = (total_animal_cereal*100)/total_cereal\n",
    "rate_use_cereal_animal "
   ]
  },
  {
   "cell_type": "code",
   "execution_count": 103,
   "id": "f1095605-ef71-4e1a-99ec-1d7be88a3c3c",
   "metadata": {},
   "outputs": [
    {
     "data": {
      "text/html": [
       "<div>\n",
       "<style scoped>\n",
       "    .dataframe tbody tr th:only-of-type {\n",
       "        vertical-align: middle;\n",
       "    }\n",
       "\n",
       "    .dataframe tbody tr th {\n",
       "        vertical-align: top;\n",
       "    }\n",
       "\n",
       "    .dataframe thead th {\n",
       "        text-align: right;\n",
       "    }\n",
       "</style>\n",
       "<table border=\"1\" class=\"dataframe\">\n",
       "  <thead>\n",
       "    <tr style=\"text-align: right;\">\n",
       "      <th></th>\n",
       "      <th>Zone</th>\n",
       "      <th>Produit</th>\n",
       "      <th>Exportations - Quantité</th>\n",
       "      <th>Production</th>\n",
       "    </tr>\n",
       "  </thead>\n",
       "  <tbody>\n",
       "    <tr>\n",
       "      <th>13809</th>\n",
       "      <td>Thaïlande</td>\n",
       "      <td>Manioc</td>\n",
       "      <td>25214.0</td>\n",
       "      <td>30228.0</td>\n",
       "    </tr>\n",
       "  </tbody>\n",
       "</table>\n",
       "</div>"
      ],
      "text/plain": [
       "            Zone Produit  Exportations - Quantité  Production\n",
       "13809  Thaïlande  Manioc                  25214.0     30228.0"
      ]
     },
     "execution_count": 103,
     "metadata": {},
     "output_type": "execute_result"
    }
   ],
   "source": [
    "df_da_thai = (df_da[\"Zone\"]==\"Thaïlande\")&(df_da[\"Produit\"]==\"Manioc\")\n",
    "df_da_thailande = df_da[df_da_thai]\n",
    "df_da_thailande[[\"Zone\",\"Produit\",\"Exportations - Quantité\",\"Production\"]]"
   ]
  },
  {
   "cell_type": "code",
   "execution_count": 104,
   "id": "b5c0d6a5-9737-4deb-93d2-1dc39000a4f8",
   "metadata": {},
   "outputs": [],
   "source": [
    "exportation_rate = (df_da_thailande[\"Exportations - Quantité\"]*100)/df_da_thailande[\"Production\"]"
   ]
  },
  {
   "cell_type": "markdown",
   "id": "e86776f1-f2e8-4d69-b49d-0e35904467d2",
   "metadata": {},
   "source": [
    "<h2>Taux d'exportation du manioc en Thaïlande</h2>"
   ]
  },
  {
   "cell_type": "code",
   "execution_count": 105,
   "id": "cbcaef92-6e1e-490a-9f3f-27dfd12555b0",
   "metadata": {},
   "outputs": [
    {
     "name": "stdout",
     "output_type": "stream",
     "text": [
      "13809    83.41273\n",
      "dtype: float64\n"
     ]
    }
   ],
   "source": [
    "print(exportation_rate)"
   ]
  },
  {
   "cell_type": "code",
   "execution_count": null,
   "id": "606576bd-c1d4-445e-bed7-b7bd956203b7",
   "metadata": {},
   "outputs": [],
   "source": []
  },
  {
   "cell_type": "code",
   "execution_count": null,
   "id": "4f313f50-b64b-4d32-981f-cc2e60e90a69",
   "metadata": {},
   "outputs": [],
   "source": []
  }
 ],
 "metadata": {
  "kernelspec": {
   "display_name": "Python 3 (ipykernel)",
   "language": "python",
   "name": "python3"
  },
  "language_info": {
   "codemirror_mode": {
    "name": "ipython",
    "version": 3
   },
   "file_extension": ".py",
   "mimetype": "text/x-python",
   "name": "python",
   "nbconvert_exporter": "python",
   "pygments_lexer": "ipython3",
   "version": "3.9.7"
  }
 },
 "nbformat": 4,
 "nbformat_minor": 5
}
