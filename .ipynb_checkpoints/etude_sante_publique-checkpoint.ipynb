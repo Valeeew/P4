{
 "cells": [
  {
   "cell_type": "markdown",
   "id": "b2ca271d-65fc-4588-a701-5684097fa29c",
   "metadata": {},
   "source": [
    "<h1>Étude de Santé Publique</h1>\n",
    "<h3>Par valentin Monteiro</h3>"
   ]
  },
  {
   "cell_type": "markdown",
   "id": "58fc4635-cbd7-4de0-96b5-f08172f12e6e",
   "metadata": {},
   "source": [
    "<h2>Import de la library panda</h2>"
   ]
  },
  {
   "cell_type": "code",
   "execution_count": null,
   "id": "39d37b3d-38ad-4019-805c-ee76abb4799b",
   "metadata": {},
   "outputs": [],
   "source": [
    "import pandas as pd\n",
    "import numpy as np"
   ]
  },
  {
   "cell_type": "markdown",
   "id": "13093b53-6922-4ddb-bec3-03885c5934d9",
   "metadata": {
    "tags": []
   },
   "source": [
    "<h2>Import des Dataframe</h2>\n",
    "<p><span style=\"color: rgb(251, 160, 38);\"><strong>df_aa</strong> = aide alimentaire</span><br>\n",
    "<div style=\"margin-left: 20px;\">\n",
    "<p>Un fichier d&rsquo;aide alimentaire qui contient :</p>\n",
    "<ul>\n",
    "    <li>Le pays b&eacute;n&eacute;ficiaire.</li>\n",
    "    <li>L&rsquo;ann&eacute;e.</li>\n",
    "    <li>Le produit.</li>\n",
    "    <li>La quantit&eacute; qui a &eacute;t&eacute; donn&eacute;e comme aide alimentaire, en tonnes.</li>\n",
    "</ul>\n",
    "</div>\n",
    "   <span style=\"color: rgb(251, 160, 38);\"><strong>df_da</strong> = dispo alimentaire</span><br><br>\n",
    "<div style=\"margin-left: 20px;\">    \n",
    "<p>Un fichier de disponibilit&eacute; alimentaire pour l&rsquo;ann&eacute;e 2017 qui contient 17 variables :</p>\n",
    "<ul>\n",
    "    <li>Le pays.</li>\n",
    "    <li>Le produit.</li>\n",
    "    <li>4 variables de disponibilit&eacute; alimentaire. Ces 4 variables sont exprim&eacute;es dans des unit&eacute;s bien sp&eacute;cifiques, qui sont pr&eacute;cis&eacute;es directement dans le nom de la variable. &Agrave; noter cependant que la notation <em>kcal</em> est un abus de langage, elle correspond &agrave; une calorie r&eacute;elle.</li>\n",
    "    <li>10 variables qui pr&eacute;cisent les utilisations/moyens d&rsquo;acquisition de la disponibilit&eacute; alimentaire. Elles sont toutes exprim&eacute;es en <strong>milliers de tonnes</strong>.</li>\n",
    "    <li>Enfin, une variable type qui pr&eacute;cise si le produit est d&rsquo;origine animale ou v&eacute;g&eacute;tale.</li>\n",
    "</ul>\n",
    "</div>\n",
    "<span style=\"color: rgb(251, 160, 38);\"><strong>df_p</strong> = population<br></span>\n",
    "<div style=\"margin-left: 20px;\">\n",
    "    <p>Un fichier de population qui inclut :</p>\n",
    "<ul>\n",
    "    <li>Le pays.</li>\n",
    "    <li>L&rsquo;ann&eacute;e.</li>\n",
    "    <li>La population du pays, exprim&eacute;e en milliers d&rsquo;habitants.</li>\n",
    "</ul>\n",
    "</div>\n",
    "<span style=\"color: rgb(251, 160, 38);\"><strong>df_sn</strong> = sous nutrition</span></p>\n",
    "<div style=\"margin-left: 20px;\">\n",
    "    <p>Un fichier d&rsquo;ins&eacute;curit&eacute; alimentaire, qui inclut :</p>\n",
    "<ul>\n",
    "    <li>Le pays.</li>\n",
    "    <li>Intervalle d&rsquo;ann&eacute;es.</li>\n",
    "    <li>Le&nbsp;nombre de personnes en sous-alimentation en millions d&rsquo;habitants&nbsp;(ex. : pour l&rsquo;intervalle 2016-2018, le nombre de personnes correspond &agrave; la moyenne sur ces 3 ann&eacute;es, on peut le r&eacute;sumer en 2017).</li>\n",
    "</ul>\n",
    "</div>\n"
   ]
  },
  {
   "cell_type": "code",
   "execution_count": null,
   "id": "2b250dfa-634f-4b36-b76a-a921e789c7be",
   "metadata": {},
   "outputs": [],
   "source": [
    "df_aa = pd.read_csv(\"aide_alimentaire.csv\")\n",
    "df_da = pd.read_csv(\"dispo_alimentaire.csv\")\n",
    "df_p = pd.read_csv(\"population.csv\")\n",
    "df_sn = pd.read_csv(\"sous_nutrition.csv\")"
   ]
  },
  {
   "cell_type": "markdown",
   "id": "15f72b1e-5718-4394-8081-9c009c328ba5",
   "metadata": {},
   "source": [
    "<h2>Nettoyage du dataframe Sous Nutrition</h2>"
   ]
  },
  {
   "cell_type": "code",
   "execution_count": null,
   "id": "b41ac500-8500-4b44-bc61-fb6c6bfd5dd7",
   "metadata": {},
   "outputs": [],
   "source": [
    "df_sn = df_sn[df_sn[\"Valeur\"].notnull()]\n",
    "df_sn2017 = df_sn[(df_sn[\"Année\"] == \"2016-2018\") == True]\n",
    "df_sn2017 = df_sn2017[(df_sn2017[\"Valeur\"] == \"<0.1\") == False]"
   ]
  },
  {
   "cell_type": "markdown",
   "id": "34d80468-2454-44c0-b582-c8a3f5b998dd",
   "metadata": {},
   "source": [
    "<h2>Nettoyage du dataframe Population</h2>"
   ]
  },
  {
   "cell_type": "code",
   "execution_count": null,
   "id": "bc11903b-f5d3-402c-939f-28fffe1c0227",
   "metadata": {},
   "outputs": [],
   "source": [
    "df_p2017=df_p[(df_p[\"Année\"] == 2017) == True]"
   ]
  },
  {
   "cell_type": "markdown",
   "id": "312f7667-56a6-4ca5-86bc-acd1f647675a",
   "metadata": {
    "tags": []
   },
   "source": [
    "<h2>Declaration des variables</h2>"
   ]
  },
  {
   "cell_type": "code",
   "execution_count": null,
   "id": "11a39fef-f612-4f1d-8b09-65703a52ef3c",
   "metadata": {},
   "outputs": [],
   "source": [
    "population_total = sum(df_p2017.Valeur)\n",
    "population_sn = sum(df_sn2017.Valeur.astype(float))*1000"
   ]
  },
  {
   "cell_type": "code",
   "execution_count": null,
   "id": "2f1a5ada-0a22-45a3-bf01-f5ec4e0f1cf4",
   "metadata": {},
   "outputs": [],
   "source": [
    "taux = (population_sn*100)/population_total"
   ]
  },
  {
   "cell_type": "markdown",
   "id": "e64e3ebe-e702-4ea4-a40c-8992383e133f",
   "metadata": {
    "tags": []
   },
   "source": [
    "<h2>Proportion de personnes en état de sous-nutrition</h2>"
   ]
  },
  {
   "cell_type": "code",
   "execution_count": null,
   "id": "10ed99a3-6bea-4d5f-acd2-3b80c4fce982",
   "metadata": {},
   "outputs": [],
   "source": [
    "print(taux)"
   ]
  },
  {
   "cell_type": "markdown",
   "id": "70fdc131-26ce-4225-96f4-f97cdd49852b",
   "metadata": {},
   "source": [
    "le nombre théorique de personnes qui pourraient être nourries. Tu devrais pouvoir calculer ça à partir de la disponibilité alimentaire mondiale ;"
   ]
  },
  {
   "cell_type": "code",
   "execution_count": null,
   "id": "7a8f69db-2722-465e-b3b5-275cd8a3711b",
   "metadata": {},
   "outputs": [],
   "source": [
    "df_da"
   ]
  },
  {
   "cell_type": "code",
   "execution_count": null,
   "id": "5ed8aa57-01ff-4fbd-9ca9-77bf41598081",
   "metadata": {},
   "outputs": [],
   "source": [
    "df_da_z = df_da.groupby(\"Zone\").sum()\n",
    "df_da_z"
   ]
  },
  {
   "cell_type": "markdown",
   "id": "72d8cc29-4e40-42f4-b307-d718e18f120c",
   "metadata": {},
   "source": [
    "<h2>Résultat requête 2</h2>"
   ]
  },
  {
   "cell_type": "code",
   "execution_count": null,
   "id": "f241c2ec-8176-4561-8ea8-e131bfe3f717",
   "metadata": {},
   "outputs": [],
   "source": [
    "df_dap = df_da_z.merge(df_p2017, how=\"inner\", left_on=\"Zone\", right_on=\"Zone\")\n",
    "nb_theorique = (sum(df_dap[\"Disponibilité alimentaire (Kcal/personne/jour)\"]*df_dap[\"Valeur\"]))/2500\n",
    "nb_theorique"
   ]
  },
  {
   "cell_type": "code",
   "execution_count": null,
   "id": "9381a3b2-595a-4686-8274-6129fe106f84",
   "metadata": {},
   "outputs": [],
   "source": [
    "df_da_v = df_da[df_da[\"Origine\"] == \"vegetale\"]\n",
    "#df_da_v = df_da_v == True\n",
    "df_da_v = df_da_v.groupby(\"Zone\").sum()\n",
    "df_da_v"
   ]
  },
  {
   "cell_type": "markdown",
   "id": "70cad671-e2bd-4faa-87f1-874eff178860",
   "metadata": {},
   "source": [
    "<h2>Résultat requête 3</h2>"
   ]
  },
  {
   "cell_type": "code",
   "execution_count": null,
   "id": "935dd5d6-0585-4af8-a7e5-5826ac19bfc9",
   "metadata": {},
   "outputs": [],
   "source": [
    "df_dap_v = df_da_v.merge(df_p2017, how=\"inner\", left_on=\"Zone\", right_on=\"Zone\")\n",
    "nb_theorique_v = (sum(df_dap_v[\"Disponibilité alimentaire (Kcal/personne/jour)\"]*df_dap_v[\"Valeur\"]))/2500\n",
    "nb_theorique_v"
   ]
  },
  {
   "cell_type": "code",
   "execution_count": null,
   "id": "7ffc5c79-b49c-49d0-a913-3d734ed79b5d",
   "metadata": {},
   "outputs": [],
   "source": [
    "df_da_clean =df_da_z.drop([\"Disponibilité alimentaire (Kcal/personne/jour)\",\"Disponibilité alimentaire en quantité (kg/personne/an)\",\"Disponibilité de matière grasse en quantité (g/personne/jour)\",\"Disponibilité de protéines en quantité (g/personne/jour)\"], axis=1)"
   ]
  },
  {
   "cell_type": "code",
   "execution_count": null,
   "id": "e985c453-efba-4762-b49b-363ea92e467a",
   "metadata": {},
   "outputs": [],
   "source": [
    "df_da_clean"
   ]
  },
  {
   "cell_type": "markdown",
   "id": "3b7309b4-75ea-43eb-ba4b-cedb27cb4ccf",
   "metadata": {},
   "source": [
    "<p> S'inspirer de la requête 2"
   ]
  },
  {
   "cell_type": "code",
   "execution_count": null,
   "id": "eb9f3267-d1ee-4777-8579-69c92ac24c9c",
   "metadata": {},
   "outputs": [],
   "source": []
  },
  {
   "cell_type": "code",
   "execution_count": null,
   "id": "c328ef69-98df-488b-91ec-760f9ee491c7",
   "metadata": {},
   "outputs": [],
   "source": []
  },
  {
   "cell_type": "code",
   "execution_count": null,
   "id": "9bdd7681-ac61-410d-a3b2-76839f5b51a3",
   "metadata": {},
   "outputs": [],
   "source": []
  }
 ],
 "metadata": {
  "kernelspec": {
   "display_name": "Python 3 (ipykernel)",
   "language": "python",
   "name": "python3"
  },
  "language_info": {
   "codemirror_mode": {
    "name": "ipython",
    "version": 3
   },
   "file_extension": ".py",
   "mimetype": "text/x-python",
   "name": "python",
   "nbconvert_exporter": "python",
   "pygments_lexer": "ipython3",
   "version": "3.9.7"
  }
 },
 "nbformat": 4,
 "nbformat_minor": 5
}
